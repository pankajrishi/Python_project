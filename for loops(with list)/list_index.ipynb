{
 "cells": [
  {
   "cell_type": "markdown",
   "metadata": {},
   "source": [
    "10.Given a list of numbers, find out the index of another given number."
   ]
  },
  {
   "cell_type": "code",
   "execution_count": 1,
   "metadata": {},
   "outputs": [
    {
     "name": "stdout",
     "output_type": "stream",
     "text": [
      " index of 2 is: 0\n",
      " index of 3 is: 1\n",
      " index of 4 is: 2\n",
      " index of 12 is: 3\n",
      " index of 34 is: 4\n",
      " index of 56 is: 5\n"
     ]
    }
   ],
   "source": [
    "lst=[2,3,4,12,34,56]\n",
    "s = -1                   # variable for storing the index\n",
    "for num in lst:         # iterate over all the element of list            \n",
    "    \n",
    "    for i in range(len(lst)):  \n",
    "        if lst[i]==num:     # will take the first index and compared with the respected element of the list\n",
    "            s +=1           # every time s will increase by one         \n",
    "    print(\" index of\", num, \"is:\", s)"
   ]
  }
 ],
 "metadata": {
  "kernelspec": {
   "display_name": "Python 3",
   "language": "python",
   "name": "python3"
  },
  "language_info": {
   "codemirror_mode": {
    "name": "ipython",
    "version": 3
   },
   "file_extension": ".py",
   "mimetype": "text/x-python",
   "name": "python",
   "nbconvert_exporter": "python",
   "pygments_lexer": "ipython3",
   "version": "3.11.4"
  }
 },
 "nbformat": 4,
 "nbformat_minor": 2
}
