{
 "cells": [
  {
   "cell_type": "markdown",
   "metadata": {},
   "source": [
    "4.Given a list of numbers, find out the mean and standard deviation."
   ]
  },
  {
   "cell_type": "code",
   "execution_count": 1,
   "metadata": {},
   "outputs": [
    {
     "name": "stdout",
     "output_type": "stream",
     "text": [
      "Mean is: 6.0\n",
      "Standard deviation is: 3.4226138716316967\n"
     ]
    }
   ],
   "source": [
    "list1 = [2,3,4,5,6,12,10]\n",
    "sum1 = 0                 # variable for storing the sum purpose\n",
    "l = len(list1)\n",
    "for num in list1:        # iterate over all the element of list\n",
    "    sum1 +=num           # every element will be add one by one\n",
    "list_mean = sum1/l       # list_mean store the mean\n",
    "sum2 = 0\n",
    "for i in list1:          \n",
    "    sum2 += (i-list_mean)**2  # sum2 will be used for standard deviation\n",
    "s_dev = (sum2/l)**0.5         # will give the standard deviation\n",
    "print(\"Mean is:\", list_mean)\n",
    "print(\"Standard deviation is:\", s_dev)"
   ]
  }
 ],
 "metadata": {
  "kernelspec": {
   "display_name": "Python 3",
   "language": "python",
   "name": "python3"
  },
  "language_info": {
   "codemirror_mode": {
    "name": "ipython",
    "version": 3
   },
   "file_extension": ".py",
   "mimetype": "text/x-python",
   "name": "python",
   "nbconvert_exporter": "python",
   "pygments_lexer": "ipython3",
   "version": "3.11.4"
  }
 },
 "nbformat": 4,
 "nbformat_minor": 2
}
