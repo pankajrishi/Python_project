{
 "cells": [
  {
   "cell_type": "markdown",
   "metadata": {},
   "source": [
    "2.Given a list of numbers, find the squares of all the numbers."
   ]
  },
  {
   "cell_type": "code",
   "execution_count": 1,
   "metadata": {},
   "outputs": [
    {
     "name": "stdout",
     "output_type": "stream",
     "text": [
      "[4, 9, 25, 36, 81, 1.6900000000000002, 22.090000000000003]\n"
     ]
    }
   ],
   "source": [
    "list_num = [2,3,5,6,9,1.3,-4.7]\n",
    "\n",
    "list_sqr = []           # for creating another dictionary so we need to have empty dictionary\n",
    "for num in list_num:    # will iterate over every element of list\n",
    "    sqr = num**2        # it will give the square of each element\n",
    "    list_sqr.append(sqr) # storing all the value of variable sqr in empty list\n",
    "print(list_sqr)          # will give the required list \n"
   ]
  }
 ],
 "metadata": {
  "kernelspec": {
   "display_name": "Python 3",
   "language": "python",
   "name": "python3"
  },
  "language_info": {
   "codemirror_mode": {
    "name": "ipython",
    "version": 3
   },
   "file_extension": ".py",
   "mimetype": "text/x-python",
   "name": "python",
   "nbconvert_exporter": "python",
   "pygments_lexer": "ipython3",
   "version": "3.11.4"
  }
 },
 "nbformat": 4,
 "nbformat_minor": 2
}
