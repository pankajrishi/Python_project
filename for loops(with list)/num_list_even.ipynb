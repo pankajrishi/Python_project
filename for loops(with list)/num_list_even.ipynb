{
 "cells": [
  {
   "cell_type": "markdown",
   "metadata": {},
   "source": [
    "7.Given a list of numbers, find out how many even numbers it has."
   ]
  },
  {
   "cell_type": "code",
   "execution_count": 1,
   "metadata": {},
   "outputs": [
    {
     "name": "stdout",
     "output_type": "stream",
     "text": [
      "3\n"
     ]
    }
   ],
   "source": [
    "list_num = [2,3,5,6,9,0]\n",
    "even_num = 0             # for finding number of element we need to initialize a variable to 0\n",
    "for num in list_num:     # will iterate over every element of list\n",
    "    if num%2 == 0:       # will divide each element of list by 2 and check the remainder\n",
    "        even_num += 1    # every time it will increase the value of list_len by 1\n",
    "        \n",
    "print(even_num)          # finally it will print total number of even number"
   ]
  }
 ],
 "metadata": {
  "kernelspec": {
   "display_name": "Python 3",
   "language": "python",
   "name": "python3"
  },
  "language_info": {
   "codemirror_mode": {
    "name": "ipython",
    "version": 3
   },
   "file_extension": ".py",
   "mimetype": "text/x-python",
   "name": "python",
   "nbconvert_exporter": "python",
   "pygments_lexer": "ipython3",
   "version": "3.11.4"
  }
 },
 "nbformat": 4,
 "nbformat_minor": 2
}
