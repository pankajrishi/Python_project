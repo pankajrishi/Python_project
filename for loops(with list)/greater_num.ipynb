{
 "cells": [
  {
   "cell_type": "markdown",
   "metadata": {},
   "source": [
    "9.Given a list of numbers, find out the maximum number."
   ]
  },
  {
   "cell_type": "code",
   "execution_count": 1,
   "metadata": {},
   "outputs": [
    {
     "name": "stdout",
     "output_type": "stream",
     "text": [
      "9\n"
     ]
    }
   ],
   "source": [
    "list_num = [2,3,5,6,9,0]\n",
    "a = list_num[0]           # store first element of list in \"a\"\n",
    "for num in list_num:      # will iterate over every element of list\n",
    "    if num>a :            # every time it will check if num is greater than \"a\" or not\n",
    "        a = num           # value of \"a\" will be updated\n",
    "print(a)                  # finally it will give the greater number of list"
   ]
  }
 ],
 "metadata": {
  "kernelspec": {
   "display_name": "Python 3",
   "language": "python",
   "name": "python3"
  },
  "language_info": {
   "codemirror_mode": {
    "name": "ipython",
    "version": 3
   },
   "file_extension": ".py",
   "mimetype": "text/x-python",
   "name": "python",
   "nbconvert_exporter": "python",
   "pygments_lexer": "ipython3",
   "version": "3.11.4"
  }
 },
 "nbformat": 4,
 "nbformat_minor": 2
}
