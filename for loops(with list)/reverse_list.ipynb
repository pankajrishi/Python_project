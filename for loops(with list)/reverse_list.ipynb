{
 "cells": [
  {
   "cell_type": "markdown",
   "metadata": {},
   "source": [
    "8.Given a list of numbers, create another list in reverse order."
   ]
  },
  {
   "cell_type": "code",
   "execution_count": 1,
   "metadata": {},
   "outputs": [
    {
     "name": "stdout",
     "output_type": "stream",
     "text": [
      "[0, 9, 6, 5, 3, 2]\n"
     ]
    }
   ],
   "source": [
    "list_num = [2,3,5,6,9,0]\n",
    "list_rev = []                    # for creating another dictionary so we need to have empty dictionary\n",
    "for num in range(len(list_num)): # for checking index of each element we need have number from from 0 to length of that list\n",
    "    rev = list_num[-(num+1)]     # will iterate from the last element of list\n",
    "    list_rev.append(rev)         # store the value of 'rev' in empty list\n",
    "print(list_rev)                  # finally it will give the list which have all the number in reverse order"
   ]
  }
 ],
 "metadata": {
  "kernelspec": {
   "display_name": "Python 3",
   "language": "python",
   "name": "python3"
  },
  "language_info": {
   "codemirror_mode": {
    "name": "ipython",
    "version": 3
   },
   "file_extension": ".py",
   "mimetype": "text/x-python",
   "name": "python",
   "nbconvert_exporter": "python",
   "pygments_lexer": "ipython3",
   "version": "3.11.4"
  }
 },
 "nbformat": 4,
 "nbformat_minor": 2
}
