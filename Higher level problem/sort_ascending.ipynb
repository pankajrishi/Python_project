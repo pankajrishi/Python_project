{
 "cells": [
  {
   "cell_type": "markdown",
   "metadata": {},
   "source": [
    "1. Given a list of numbers, sort it in ascending order."
   ]
  },
  {
   "cell_type": "code",
   "execution_count": 5,
   "metadata": {},
   "outputs": [
    {
     "name": "stdout",
     "output_type": "stream",
     "text": [
      "[-2, 0, 3, 4, 5, 6]\n"
     ]
    }
   ],
   "source": [
    "list1 = [5,3,4,-2,6,0]\n",
    "len_list = 0       \n",
    "for num in list1:            \n",
    "    len_list +=1             # len_list will store the length\n",
    "for i in range(len_list):    \n",
    "    \n",
    "    for j in range(i+1,len_list):  # iterating over each element\n",
    "        if list1[i]> list1[j]:     # it will compare with ith position to jth position of element of list \n",
    "            list1[i],list1[j] = list1[j],list1[i]  # it will swap the element\n",
    "print(list1)\n"
   ]
  }
 ],
 "metadata": {
  "kernelspec": {
   "display_name": "Python 3",
   "language": "python",
   "name": "python3"
  },
  "language_info": {
   "codemirror_mode": {
    "name": "ipython",
    "version": 3
   },
   "file_extension": ".py",
   "mimetype": "text/x-python",
   "name": "python",
   "nbconvert_exporter": "python",
   "pygments_lexer": "ipython3",
   "version": "3.11.4"
  }
 },
 "nbformat": 4,
 "nbformat_minor": 2
}
