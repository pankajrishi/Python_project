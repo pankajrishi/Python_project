{
 "cells": [
  {
   "cell_type": "markdown",
   "metadata": {},
   "source": [
    "2. Given a list of numbers, find out the median and mode."
   ]
  },
  {
   "cell_type": "code",
   "execution_count": 8,
   "metadata": {},
   "outputs": [
    {
     "name": "stdout",
     "output_type": "stream",
     "text": [
      "median of [1, 2, 2, 2, 3, 3, 4, 6, 7] is:  3\n",
      "Mode of the list [1, 2, 2, 2, 3, 3, 4, 6, 7] is: 2\n"
     ]
    }
   ],
   "source": [
    "list1 = [1,2,3,4,6,7,3,2,2]   \n",
    "list_len = len(list1)\n",
    "for i in range(list_len):       #we need to firstly sort it in ascending order\n",
    "    for j in range(list_len):\n",
    "        if list1[i] < list1[j]:           #comparing with ith index and jth index of element of list\n",
    "            list1[i],list1[j] = list1[j],list1[i]  #it will swaping\n",
    "\n",
    "if list_len%2 == 0:   # checking if the number of element is even or odd\n",
    "    median = (list1[list_len//2 -1] + list1[list_len//2])/2  #it is formula of median for even number of element\n",
    "else:          \n",
    "    median = list1[list_len//2]                             # it is formula for odd number of element\n",
    "\n",
    "print(\"median of\",list1,\"is: \",median)\n",
    "# for finding mode:\n",
    "dict_freq = {}    #for creating a dictionary first need to initialize an empty dictionary.\n",
    "for x in list1:\n",
    "    if x not in dict_freq:\n",
    "        dict_freq[x] = 1\n",
    "    else:                    \n",
    "        dict_freq[x] += 1     #if x is already in dictionary it will increase by one \n",
    "\n",
    "list_val = []                # creating empty list to store all values of dictionary.\n",
    "for y in dict_freq.values():\n",
    "    list_val.append(y)\n",
    "max_value =list_val[0]    # storing first number of list as max_value to compare.\n",
    "for k in list_val:\n",
    "    if k > max_value:        # to get original max_value in the value_list.\n",
    "        max_value = k\n",
    "\n",
    "for key, value in dict_freq.items():  \n",
    "    if value == max_value:             # max value will be the \"MODE\".\n",
    "        print(\"Mode of the list\",list1,\"is:\",key)"
   ]
  }
 ],
 "metadata": {
  "kernelspec": {
   "display_name": "Python 3",
   "language": "python",
   "name": "python3"
  },
  "language_info": {
   "codemirror_mode": {
    "name": "ipython",
    "version": 3
   },
   "file_extension": ".py",
   "mimetype": "text/x-python",
   "name": "python",
   "nbconvert_exporter": "python",
   "pygments_lexer": "ipython3",
   "version": "3.11.4"
  }
 },
 "nbformat": 4,
 "nbformat_minor": 2
}
