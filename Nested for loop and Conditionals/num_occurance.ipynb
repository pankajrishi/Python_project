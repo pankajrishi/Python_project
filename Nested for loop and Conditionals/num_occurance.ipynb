{
 "cells": [
  {
   "cell_type": "markdown",
   "metadata": {},
   "source": [
    "6.Given a list of numbers, find out how many times each number occurs in the list."
   ]
  },
  {
   "cell_type": "code",
   "execution_count": 8,
   "metadata": {},
   "outputs": [
    {
     "name": "stdout",
     "output_type": "stream",
     "text": [
      "No of occurance of 2 is 3\n",
      "No of occurance of 3 is 1\n",
      "No of occurance of 4 is 1\n",
      "No of occurance of 5 is 2\n",
      "No of occurance of 6 is 1\n"
     ]
    }
   ],
   "source": [
    "list1 = [2,2,3,4,5,2,6,5]\n",
    "list2 = []                    # creating empty list\n",
    "for num in list1:\n",
    "    if num not in list2:      \n",
    "            list2.append(num)\n",
    "\n",
    "for ele in list2:             # iterating loop to take each element\n",
    "    count = 0\n",
    "    for num in list1:          \n",
    "        if ele == num:            # comparing with each numbers in list1 and increasing count by 1.\n",
    "            count += 1\n",
    "    print(\"No of occurance of\", ele,\"is\",count)"
   ]
  }
 ],
 "metadata": {
  "kernelspec": {
   "display_name": "Python 3",
   "language": "python",
   "name": "python3"
  },
  "language_info": {
   "codemirror_mode": {
    "name": "ipython",
    "version": 3
   },
   "file_extension": ".py",
   "mimetype": "text/x-python",
   "name": "python",
   "nbconvert_exporter": "python",
   "pygments_lexer": "ipython3",
   "version": "3.11.4"
  }
 },
 "nbformat": 4,
 "nbformat_minor": 2
}
