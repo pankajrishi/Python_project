{
 "cells": [
  {
   "cell_type": "markdown",
   "metadata": {},
   "source": [
    "5.Given a positive integers, find out the sum of all prime numbers from 1 up to this number."
   ]
  },
  {
   "cell_type": "code",
   "execution_count": 1,
   "metadata": {},
   "outputs": [
    {
     "name": "stdout",
     "output_type": "stream",
     "text": [
      "given positive number is: 25\n",
      "2\n",
      "3\n",
      "5\n",
      "7\n",
      "11\n",
      "13\n",
      "17\n",
      "19\n",
      "23\n",
      "sum of all prime number is : 100\n"
     ]
    }
   ],
   "source": [
    "num_p = int(input(\"enter the positive number\"))\n",
    "print(\"given positive number is:\", num_p)\n",
    "\n",
    "s = 0                           # for finding sum we need to initilize a variable to 0\n",
    "for num in range(2,(num_p+1)):  # give all the integer from 2 upto given integer because 1 is not prime or composite\n",
    "    c = 0                       # we need to use this in furthur iteration\n",
    "    \n",
    "    for i in range(2,int(num**0.5 + 1)): # will give all positive integer from 2 upto square root of 'num'\n",
    "        if num%i == 0:                   # divide each number one by one from 'i'\n",
    "            c += 1                        # if remainder is zero 'c' will increase by 1\n",
    "\n",
    "    if c == 0:                             # if c is 0 ,it means remainder is not zero and hence it is prime number.\n",
    "        print(num)\n",
    "        s += num                           # it will add and then store each number one by one\n",
    "print(\"sum of all prime number is :\", s)   # will give the sum of all the prime number "
   ]
  }
 ],
 "metadata": {
  "kernelspec": {
   "display_name": "Python 3",
   "language": "python",
   "name": "python3"
  },
  "language_info": {
   "codemirror_mode": {
    "name": "ipython",
    "version": 3
   },
   "file_extension": ".py",
   "mimetype": "text/x-python",
   "name": "python",
   "nbconvert_exporter": "python",
   "pygments_lexer": "ipython3",
   "version": "3.11.4"
  }
 },
 "nbformat": 4,
 "nbformat_minor": 2
}
