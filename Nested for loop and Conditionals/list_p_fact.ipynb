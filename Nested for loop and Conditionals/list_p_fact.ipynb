{
 "cells": [
  {
   "cell_type": "markdown",
   "metadata": {},
   "source": [
    "1.Given a list of positive integers, find the factorial of all the numbers"
   ]
  },
  {
   "cell_type": "code",
   "execution_count": 1,
   "metadata": {},
   "outputs": [
    {
     "name": "stdout",
     "output_type": "stream",
     "text": [
      "factorial of 3 is: 6\n",
      "factorial of 4 is: 24\n",
      "factorial of 5 is: 120\n"
     ]
    }
   ],
   "source": [
    "list_num = [3,4,5]\n",
    "for num in list_num:                         #iterate over all the number in list one by one\n",
    "    fact_num = 1                             # for performing multiplication task ,need to initialize a variable to 1\n",
    "    for i in range(2,num+1):                 # give all the number from 2 upto respective eelement in list\n",
    "        fact_num = fact_num*i                # multiply and store each number one by one\n",
    "    print('factorial of', num, 'is:', fact_num) # it will print factorial of all the number"
   ]
  }
 ],
 "metadata": {
  "kernelspec": {
   "display_name": "Python 3",
   "language": "python",
   "name": "python3"
  },
  "language_info": {
   "codemirror_mode": {
    "name": "ipython",
    "version": 3
   },
   "file_extension": ".py",
   "mimetype": "text/x-python",
   "name": "python",
   "nbconvert_exporter": "python",
   "pygments_lexer": "ipython3",
   "version": "3.11.4"
  }
 },
 "nbformat": 4,
 "nbformat_minor": 2
}
