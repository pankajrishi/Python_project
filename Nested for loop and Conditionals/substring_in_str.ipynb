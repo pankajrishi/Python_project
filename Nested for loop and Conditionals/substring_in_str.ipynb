{
 "cells": [
  {
   "cell_type": "markdown",
   "metadata": {},
   "source": [
    "6. Check whether a given string contains a particular substring or not."
   ]
  },
  {
   "cell_type": "code",
   "execution_count": 3,
   "metadata": {},
   "outputs": [
    {
     "name": "stdout",
     "output_type": "stream",
     "text": [
      "Yes,contains substring: name\n"
     ]
    }
   ],
   "source": [
    "str1 = \"My name is Pankaj Kumar, currently studying at Sitare University.\"\n",
    "sub_str = input(\"Enter any word as substring:\")\n",
    "\n",
    "if sub_str in str1:              # if substring is present in the string.\n",
    "    print(\"Yes,contains substring:\",sub_str)\n",
    "else:                            # if substring is not present in the string.\n",
    "    print(\"No,does not contain substring:\",sub_str)"
   ]
  }
 ],
 "metadata": {
  "kernelspec": {
   "display_name": "Python 3",
   "language": "python",
   "name": "python3"
  },
  "language_info": {
   "codemirror_mode": {
    "name": "ipython",
    "version": 3
   },
   "file_extension": ".py",
   "mimetype": "text/x-python",
   "name": "python",
   "nbconvert_exporter": "python",
   "pygments_lexer": "ipython3",
   "version": "3.11.4"
  }
 },
 "nbformat": 4,
 "nbformat_minor": 2
}
