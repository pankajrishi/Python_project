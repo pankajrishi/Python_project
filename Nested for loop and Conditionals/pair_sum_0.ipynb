{
 "cells": [
  {
   "cell_type": "markdown",
   "metadata": {},
   "source": [
    "7.Given a list of integers, find all pairs of integers in the list whose sum is zero."
   ]
  },
  {
   "cell_type": "code",
   "execution_count": 1,
   "metadata": {},
   "outputs": [
    {
     "name": "stdout",
     "output_type": "stream",
     "text": [
      "2 , -2\n",
      "3 , -3\n",
      "7 , -7\n"
     ]
    }
   ],
   "source": [
    "list_num = [2,3,4,-3,5,6,7,-7,-2]\n",
    "sum_m = 0                                      # for performing operation on sum we need to initilize a variable to 0\n",
    "\n",
    "for i in range(len(list_num)):                 # give all the number from zero upto list length-1.\n",
    "    for j in range(i, len(list_num)):          # give all the number from \"i\" upto list length-1.\n",
    "        if list_num[i] + list_num[j] == sum_m: # it will check sum of different index of the element of list\n",
    "            print(list_num[i],',',list_num[j])  # it will print pair which adds to zero."
   ]
  }
 ],
 "metadata": {
  "kernelspec": {
   "display_name": "Python 3",
   "language": "python",
   "name": "python3"
  },
  "language_info": {
   "codemirror_mode": {
    "name": "ipython",
    "version": 3
   },
   "file_extension": ".py",
   "mimetype": "text/x-python",
   "name": "python",
   "nbconvert_exporter": "python",
   "pygments_lexer": "ipython3",
   "version": "3.11.4"
  }
 },
 "nbformat": 4,
 "nbformat_minor": 2
}
