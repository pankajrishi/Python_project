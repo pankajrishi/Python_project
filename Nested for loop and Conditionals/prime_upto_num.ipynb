{
 "cells": [
  {
   "cell_type": "markdown",
   "metadata": {},
   "source": [
    "4.Given a positive integer, find out all prime numbers from 1 up to this number."
   ]
  },
  {
   "cell_type": "code",
   "execution_count": 3,
   "metadata": {},
   "outputs": [
    {
     "name": "stdout",
     "output_type": "stream",
     "text": [
      "Given positive number is: 25\n",
      "2\n",
      "3\n",
      "5\n",
      "7\n",
      "11\n",
      "13\n",
      "17\n",
      "19\n",
      "23\n"
     ]
    }
   ],
   "source": [
    "num_p = int(input(\"enter the positive number\"))\n",
    "print(\"Given positive number is:\", num_p)\n",
    "for num in range(2 ,(num_p+1)):            # give all the integer from 2 upto given integer because 1 is not prime or composite\n",
    "    c = 0                                # we need to use this in furthur iteration\n",
    "    for i in range(2,int(num**0.5 + 1)): # will give all positive integer from 2 upto square root of 'num'\n",
    "        if num%i == 0:                   # divide each number one by one from 'i'\n",
    "            c += 1                       # if remainder is zero 'c' will increase by 1\n",
    "    if c == 0 :                          # if c is 0 ,it means remainder is not zero and hence it is prime number.\n",
    "        print(num)                       # it will print all the prime number"
   ]
  }
 ],
 "metadata": {
  "kernelspec": {
   "display_name": "Python 3",
   "language": "python",
   "name": "python3"
  },
  "language_info": {
   "codemirror_mode": {
    "name": "ipython",
    "version": 3
   },
   "file_extension": ".py",
   "mimetype": "text/x-python",
   "name": "python",
   "nbconvert_exporter": "python",
   "pygments_lexer": "ipython3",
   "version": "3.11.4"
  }
 },
 "nbformat": 4,
 "nbformat_minor": 2
}
