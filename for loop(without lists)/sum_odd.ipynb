{
 "cells": [
  {
   "cell_type": "markdown",
   "metadata": {},
   "source": [
    "5.Given a positive integer, find out the sum of all odd numbers from 1 up to this number."
   ]
  },
  {
   "cell_type": "code",
   "execution_count": 4,
   "metadata": {},
   "outputs": [
    {
     "name": "stdout",
     "output_type": "stream",
     "text": [
      "9\n"
     ]
    }
   ],
   "source": [
    "num_p = int(input(\"enter positive integer\"))\n",
    "sum_p = 0                      # for finding sum we need to initilize a variable to 0\n",
    "for i in range(1,num_p+1,2):   # will give all odd number from 1 upto num_p\n",
    "    sum_p += i                 # will add first number then addd previou stored value to the next number\n",
    "print(sum_p)                   # variable sum_p stored addition of all the number"
   ]
  }
 ],
 "metadata": {
  "kernelspec": {
   "display_name": "Python 3",
   "language": "python",
   "name": "python3"
  },
  "language_info": {
   "codemirror_mode": {
    "name": "ipython",
    "version": 3
   },
   "file_extension": ".py",
   "mimetype": "text/x-python",
   "name": "python",
   "nbconvert_exporter": "python",
   "pygments_lexer": "ipython3",
   "version": "3.11.4"
  }
 },
 "nbformat": 4,
 "nbformat_minor": 2
}
