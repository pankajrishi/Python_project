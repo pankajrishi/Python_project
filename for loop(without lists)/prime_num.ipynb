{
 "cells": [
  {
   "cell_type": "markdown",
   "metadata": {},
   "source": [
    "4.Given a positive integer, find out if it’s prime or not."
   ]
  },
  {
   "cell_type": "code",
   "execution_count": 1,
   "metadata": {},
   "outputs": [
    {
     "name": "stdout",
     "output_type": "stream",
     "text": [
      "6 is not a prime number\n"
     ]
    }
   ],
   "source": [
    "num = int(input(\"enter positive integer\"))\n",
    "c = 0                                      # initilize a variable to 0 for use it in next operation.\n",
    "for i in range(2,int(num**0.5+1)):         # give all the integer from 2 to upto square root of given integer.\n",
    "    if num %i == 0:                        # for finding remainder we need to divide num by i\n",
    "        c += 1                             #if remainder is 0 then c will increase by 1\n",
    "if c == 0 and num != 1:                   # if c is 0 means remainder is not 0 and hence it will be prime number and 1 is not a prime or composite\n",
    "    print(num,\"is a prime number\")\n",
    "else:\n",
    "    print(num, \"is not a prime number\")"
   ]
  }
 ],
 "metadata": {
  "kernelspec": {
   "display_name": "Python 3",
   "language": "python",
   "name": "python3"
  },
  "language_info": {
   "codemirror_mode": {
    "name": "ipython",
    "version": 3
   },
   "file_extension": ".py",
   "mimetype": "text/x-python",
   "name": "python",
   "nbconvert_exporter": "python",
   "pygments_lexer": "ipython3",
   "version": "3.11.4"
  }
 },
 "nbformat": 4,
 "nbformat_minor": 2
}
