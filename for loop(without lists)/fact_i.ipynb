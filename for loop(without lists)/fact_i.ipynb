{
 "cells": [
  {
   "cell_type": "markdown",
   "metadata": {},
   "source": [
    "3.Given a positive integer, find out its factorial"
   ]
  },
  {
   "cell_type": "code",
   "execution_count": 1,
   "metadata": {},
   "outputs": [
    {
     "name": "stdout",
     "output_type": "stream",
     "text": [
      "Factorial of 5 = 120\n"
     ]
    }
   ],
   "source": [
    "a = int(input(\"enter any positive integer\"))     # taking a positive integer from user\n",
    "fact_i = 1                                       # for storing factorial initialize a variable to 1\n",
    "for i in range(2,a+1):                           # no need for 1 so it iterate over 2 to upto given integer\n",
    "    fact_i = fact_i*(i)                          # multiply each integer one by one and store its output in fact_i\n",
    "print(\"Factorial of\", a ,\"=\", fact_i)            # will give the factorial as output "
   ]
  }
 ],
 "metadata": {
  "kernelspec": {
   "display_name": "Python 3",
   "language": "python",
   "name": "python3"
  },
  "language_info": {
   "codemirror_mode": {
    "name": "ipython",
    "version": 3
   },
   "file_extension": ".py",
   "mimetype": "text/x-python",
   "name": "python",
   "nbconvert_exporter": "python",
   "pygments_lexer": "ipython3",
   "version": "3.11.4"
  }
 },
 "nbformat": 4,
 "nbformat_minor": 2
}
