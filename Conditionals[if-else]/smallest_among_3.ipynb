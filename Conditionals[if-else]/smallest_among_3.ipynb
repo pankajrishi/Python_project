{
 "cells": [
  {
   "cell_type": "markdown",
   "metadata": {},
   "source": [
    "find the smallest among three integer"
   ]
  },
  {
   "cell_type": "code",
   "execution_count": 2,
   "metadata": {},
   "outputs": [
    {
     "name": "stdout",
     "output_type": "stream",
     "text": [
      "value of given number :  4 3 2\n",
      "c is the smallest\n"
     ]
    }
   ],
   "source": [
    "a=int(input('enter the value of a'))\n",
    "b=int(input('enter the value of b'))\n",
    "c=int(input('enter the value of c'))\n",
    "print( \"value of given number : \",a,b,c)\n",
    "if a<b:                           \n",
    "    if a<c:                      # inside this condition compare with \"a\" and \"c\"\n",
    "        print('a is the smallest')\n",
    "    elif a==c:\n",
    "        print('both a and c are equal and smallest')    \n",
    "    else:\n",
    "        print('c is the smallest')\n",
    "elif a>b:\n",
    "    if b<c:                           # inside this condition compare with \"b\" and \"c\"\n",
    "        print('b is the smallest')\n",
    "    elif b==c:\n",
    "        print('both b and c are equal and smallest')    \n",
    "    else:\n",
    "        print('c is the smallest')                \n",
    "else:\n",
    "    if c<a:                            # inside this condition compare rest of the case\n",
    "        print('c is the smallest')\n",
    "    elif c>a:\n",
    "        print('both a and b are equal and smallest')  \n",
    "    else:\n",
    "        print('all three numbers are equal')"
   ]
  }
 ],
 "metadata": {
  "kernelspec": {
   "display_name": "Python 3",
   "language": "python",
   "name": "python3"
  },
  "language_info": {
   "codemirror_mode": {
    "name": "ipython",
    "version": 3
   },
   "file_extension": ".py",
   "mimetype": "text/x-python",
   "name": "python",
   "nbconvert_exporter": "python",
   "pygments_lexer": "ipython3",
   "version": "3.11.4"
  }
 },
 "nbformat": 4,
 "nbformat_minor": 2
}
