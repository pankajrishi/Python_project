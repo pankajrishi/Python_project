{
 "cells": [
  {
   "cell_type": "markdown",
   "metadata": {},
   "source": [
    "Concept 1 : conditionals [if-else]"
   ]
  },
  {
   "cell_type": "markdown",
   "metadata": {},
   "source": [
    "3. Given a temperature in Celsius, convert it to Fahrenheit using the formula F = (C * 1.8) + 32. If the temperature is above 90°F, print “It’s hot outside!” otherwise, print “The temperature is pleasant”."
   ]
  },
  {
   "cell_type": "code",
   "execution_count": 1,
   "metadata": {},
   "outputs": [
    {
     "name": "stdout",
     "output_type": "stream",
     "text": [
      "The temperature is pleasant \n"
     ]
    }
   ],
   "source": [
    "#  temperature given in celcious is C and Farenheit Is F \n",
    "C = float(input(\"enter the temperature in celcious\"))\n",
    "# formula for converting celcious into farenheit\n",
    "F = (C*1.8)+32  \n",
    "\n",
    "if F>90:\n",
    "    # if temperature is greater than 90 (in farenheit) then output is \" its hot outside\"\n",
    "    print(\"It's hot outside\")\n",
    "else:\n",
    "    # if it is less than 90(in farenheit) then output is \"The temperature is pleasant\"\n",
    "    print(\"The temperature is pleasant \")"
   ]
  }
 ],
 "metadata": {
  "kernelspec": {
   "display_name": "Python 3",
   "language": "python",
   "name": "python3"
  },
  "language_info": {
   "codemirror_mode": {
    "name": "ipython",
    "version": 3
   },
   "file_extension": ".py",
   "mimetype": "text/x-python",
   "name": "python",
   "nbconvert_exporter": "python",
   "pygments_lexer": "ipython3",
   "version": "3.11.4"
  }
 },
 "nbformat": 4,
 "nbformat_minor": 2
}
