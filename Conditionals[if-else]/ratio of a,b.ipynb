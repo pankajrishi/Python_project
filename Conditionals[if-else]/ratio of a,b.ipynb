{
 "cells": [
  {
   "cell_type": "markdown",
   "metadata": {},
   "source": [
    "5.Given two numbers, a and b, find the value of a/b (b may be zero)."
   ]
  },
  {
   "cell_type": "code",
   "execution_count": 1,
   "metadata": {},
   "outputs": [
    {
     "name": "stdout",
     "output_type": "stream",
     "text": [
      "value of a/b is 1.9047619047619047\n"
     ]
    }
   ],
   "source": [
    "# for finding a/b we need take their value\n",
    "a= float(input(\"enter the numerator\"))\n",
    "b=float(input(\"enter the denominator\"))\n",
    "\n",
    "if b!=0:\n",
    "    # first need to check whether denominator is zero or not if not zero then division is possible\n",
    "    print(\"value of a/b is\", a/b)\n",
    "else:\n",
    "    # if denomonator is zero then division is not possible\n",
    "    print(\"a/b doesn't exist\")"
   ]
  }
 ],
 "metadata": {
  "kernelspec": {
   "display_name": "Python 3",
   "language": "python",
   "name": "python3"
  },
  "language_info": {
   "codemirror_mode": {
    "name": "ipython",
    "version": 3
   },
   "file_extension": ".py",
   "mimetype": "text/x-python",
   "name": "python",
   "nbconvert_exporter": "python",
   "pygments_lexer": "ipython3",
   "version": "3.11.4"
  }
 },
 "nbformat": 4,
 "nbformat_minor": 2
}
