{
 "cells": [
  {
   "cell_type": "markdown",
   "metadata": {},
   "source": [
    "Given a quadratic equation with coefficients a, b and c, find the two solutions (may be real or complex). You should not take the square root of a negative number in your code."
   ]
  },
  {
   "cell_type": "code",
   "execution_count": 2,
   "metadata": {},
   "outputs": [
    {
     "name": "stdout",
     "output_type": "stream",
     "text": [
      "The real part of roots is -0.5 and imaginary part is 21.166010488516726\n"
     ]
    }
   ],
   "source": [
    "a = float(input(\"enter the coefficient of x^2\"))\n",
    "b = float(input(\"enter the coefficient of x\"))\n",
    "c = float(input(\"enter the constant term\"))\n",
    "\n",
    "D = b**2-(4*a*c)                   # this is discriminant\n",
    "Di = -(D)                          # will use for finding imaginary root                \n",
    "\n",
    "\n",
    "if a!= 0:                    # check if coefficient of x^2 is 0 or not\n",
    "    if D>=0:                 # if D is greater than or equal to 0, two real roots will be there\n",
    "        print(\"Two roots are\", (-b+(D**0.5))/2*a, \"and\", (-b-(D**0.5))/2*a)\n",
    "    elif D<0:                 # if D is less than 0, one real part and one imaginary part of roots will be there\n",
    "        print(\"The real part of roots is\",-b/(2*a), \"and imaginary part is\",(Di**0.5)/2*a)\n",
    "else:                               # this is the case for coefficient of x^2 to be 0\n",
    "    print(\"One root will be :\" -c/b)"
   ]
  }
 ],
 "metadata": {
  "kernelspec": {
   "display_name": "Python 3",
   "language": "python",
   "name": "python3"
  },
  "language_info": {
   "codemirror_mode": {
    "name": "ipython",
    "version": 3
   },
   "file_extension": ".py",
   "mimetype": "text/x-python",
   "name": "python",
   "nbconvert_exporter": "python",
   "pygments_lexer": "ipython3",
   "version": "3.11.4"
  }
 },
 "nbformat": 4,
 "nbformat_minor": 2
}
