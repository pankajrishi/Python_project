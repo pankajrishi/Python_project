{
 "cells": [
  {
   "cell_type": "code",
   "execution_count": 1,
   "metadata": {},
   "outputs": [
    {
     "name": "stdout",
     "output_type": "stream",
     "text": [
      "(4.0, 6.0) (5.0, 8.0)\n",
      "slope of line is: 2.0\n",
      "y-intercept of line is: -2.0\n"
     ]
    }
   ],
   "source": [
    "x1 = float(input(\"enter the value of x1\"))\n",
    "x2 = float(input(\"enter the value of x2\"))\n",
    "y1 = float(input(\"enter the value of y1\"))\n",
    "y2 = float(input(\"enter the value of y2\"))\n",
    "\n",
    "print((x1,y1),(x2,y2))\n",
    "a = (y2-y1)   \n",
    "b = (x2-x1)   \n",
    "\n",
    "if b != 0:  # if b is not zero then only slope can be found intercept can be found\n",
    "    slope = a/b          \n",
    "    y_intercept = y2 - (slope*x2)        # using formula from the equation of straight line.\n",
    "\n",
    "    print(\"slope of line is:\",slope)\n",
    "    print(\"y-intercept of line is:\",y_intercept)\n",
    "else:                     # if b is zero then slope will be at right angle (vertical line) and intersept will be not defined.\n",
    "    print(\"Slope is undefine(Vertical line) and y-intercept is also not defined.\")"
   ]
  }
 ],
 "metadata": {
  "kernelspec": {
   "display_name": "Python 3",
   "language": "python",
   "name": "python3"
  },
  "language_info": {
   "codemirror_mode": {
    "name": "ipython",
    "version": 3
   },
   "file_extension": ".py",
   "mimetype": "text/x-python",
   "name": "python",
   "nbconvert_exporter": "python",
   "pygments_lexer": "ipython3",
   "version": "3.11.4"
  }
 },
 "nbformat": 4,
 "nbformat_minor": 2
}
