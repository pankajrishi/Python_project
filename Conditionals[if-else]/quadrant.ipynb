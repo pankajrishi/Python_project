{
 "cells": [
  {
   "cell_type": "markdown",
   "metadata": {},
   "source": [
    "6.Given a point (x1, y1), find the quadrant in which this point lies."
   ]
  },
  {
   "cell_type": "code",
   "execution_count": 1,
   "metadata": {},
   "outputs": [
    {
     "name": "stdout",
     "output_type": "stream",
     "text": [
      "-5.0 , -6.0 lies in third quadrant\n"
     ]
    }
   ],
   "source": [
    "# take the value of each quadrant\n",
    "x1 = float(input(\"enter x-quadrant\"))\n",
    "y1 = float(input(\"enter y-quadrant\"))\n",
    "\n",
    "if x1>0 and y1>0:  \n",
    "    # if both point are positive then it lies in first quadrant\n",
    "    print(x1,y1,\"lies in first quadrant\")\n",
    "elif x1<0 and y1>0:\n",
    "    # if x-coordinate is negative and y is positive then it lies in second quadrant\n",
    "    print(x1,\",\",y1,\"lies in second quadrant\")\n",
    "elif x1<0 and y1<0:\n",
    "    # if both the quadrant are negative then it lies in third quadrant\n",
    "    print(x1,\",\",y1,\"lies in third quadrant\")\n",
    "elif x1>0 and y1<0:\n",
    "    # if x-coordinate is positive and y is negative then it lies in fourth quadrant\n",
    "    print(x1,\",\",y1,\"lies in fourth quadrant\")\n",
    "elif x1==0 and y1==0:\n",
    "    # if both are zero then it lies at the orizin\n",
    "    print(x1,\",\",y1,\"lies at the orizin\")\n",
    "elif x1==0 and y1>0:\n",
    "    # if x-coordinate is zero and y is positive then it lies on positive y-axis\n",
    "    print(x1,\",\",y1,\"lies on the positive y-axix\")\n",
    "elif x1==0 and y1<0:\n",
    "    # if x-coordinate is zero and y is negative then it lies on negative y-axis\n",
    "    print(x1,\",\",y1,\"lies on the negative y-axix\")\n",
    "elif y1==0 and x1<0:\n",
    "    # if y-coordinate is zero and x is negative then it lies on pnegative x-axis\n",
    "    print(x1,\",\",y1,\"lies on the negative x-axix\")\n",
    "else:\n",
    "    # if y-coordinate is zero and x is positive then it lies on positive x-axis\n",
    "    print(x1,\",\",y1,\"lies on the positive x-axix\")"
   ]
  }
 ],
 "metadata": {
  "kernelspec": {
   "display_name": "Python 3",
   "language": "python",
   "name": "python3"
  },
  "language_info": {
   "codemirror_mode": {
    "name": "ipython",
    "version": 3
   },
   "file_extension": ".py",
   "mimetype": "text/x-python",
   "name": "python",
   "nbconvert_exporter": "python",
   "pygments_lexer": "ipython3",
   "version": "3.11.4"
  }
 },
 "nbformat": 4,
 "nbformat_minor": 2
}
