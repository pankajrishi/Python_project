{
 "cells": [
  {
   "cell_type": "markdown",
   "metadata": {},
   "source": [
    "3. Given two integer find the larger one"
   ]
  },
  {
   "cell_type": "code",
   "execution_count": 1,
   "metadata": {},
   "outputs": [
    {
     "name": "stdout",
     "output_type": "stream",
     "text": [
      "6 is greater than 4\n"
     ]
    }
   ],
   "source": [
    "# here I took two integer from user\n",
    "a= int(input(\"enter first number\"))\n",
    "b= int(input(\"enter second number\"))\n",
    "# now compare both the number\n",
    "if a>b:\n",
    "    # if \"a\" is greater than \"b\" then\n",
    "    print(a,\"is greater than\",b)\n",
    "elif a < b:\n",
    "    # if b is greater\n",
    "    print(b,\"is greater than\",a)\n",
    "else:\n",
    "    # if both are equal\n",
    "    print(a,\"and\",b,\"are equal\")\n"
   ]
  }
 ],
 "metadata": {
  "kernelspec": {
   "display_name": "Python 3",
   "language": "python",
   "name": "python3"
  },
  "language_info": {
   "codemirror_mode": {
    "name": "ipython",
    "version": 3
   },
   "file_extension": ".py",
   "mimetype": "text/x-python",
   "name": "python",
   "nbconvert_exporter": "python",
   "pygments_lexer": "ipython3",
   "version": "3.11.4"
  }
 },
 "nbformat": 4,
 "nbformat_minor": 2
}
