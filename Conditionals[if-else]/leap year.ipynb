{
 "cells": [
  {
   "cell_type": "markdown",
   "metadata": {},
   "source": [
    "4.Given a year, check if it is a leap year or not. A leap year is divisible by 4, except for years that are divisible by 100. However, years that are divisible by 400 are also leap years."
   ]
  },
  {
   "cell_type": "code",
   "execution_count": 2,
   "metadata": {},
   "outputs": [
    {
     "name": "stdout",
     "output_type": "stream",
     "text": [
      "2100 is not a leap year\n"
     ]
    }
   ],
   "source": [
    "# take any year\n",
    "a = int(input(\"enter any year\"))\n",
    "if a%400 == 0:\n",
    "    # checking remainder when divided by 400, if it is 0 then year will be leap year\n",
    "    print(a,\"is leap year\")\n",
    "elif a % 4 == 0 and a % 100 != 0:\n",
    "    #remainder should be zero and non zero when divided with respect to 4 and 100 respectively\n",
    "    print(a,\"is a leap year\")\n",
    "else:\n",
    "    # in all other condition, it won't be a leap year\n",
    "    print(a, \"is not a leap year\")"
   ]
  }
 ],
 "metadata": {
  "kernelspec": {
   "display_name": "Python 3",
   "language": "python",
   "name": "python3"
  },
  "language_info": {
   "codemirror_mode": {
    "name": "ipython",
    "version": 3
   },
   "file_extension": ".py",
   "mimetype": "text/x-python",
   "name": "python",
   "nbconvert_exporter": "python",
   "pygments_lexer": "ipython3",
   "version": "3.11.4"
  }
 },
 "nbformat": 4,
 "nbformat_minor": 2
}
