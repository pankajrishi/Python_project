{
 "cells": [
  {
   "cell_type": "markdown",
   "metadata": {},
   "source": [
    "7.Given three points, find out whether they lie on the same straight line or not."
   ]
  },
  {
   "cell_type": "code",
   "execution_count": 3,
   "metadata": {},
   "outputs": [
    {
     "name": "stdout",
     "output_type": "stream",
     "text": [
      "points are lie on same staright line\n"
     ]
    }
   ],
   "source": [
    "# for 3 points we need to take 3 pair of each coordinate\n",
    "x1 = float(input(\"enter the value of x1\"))\n",
    "x2 = float(input(\"enter the value of x2\"))\n",
    "x3 = float(input(\"enter the value of x3\"))\n",
    "y1 = float(input(\"enter the value of y1\"))\n",
    "y2 = float(input(\"enter the value of y2\"))\n",
    "y3 = float(input(\"enter the value of y3\"))\n",
    "\n",
    "# this is formula for checking collinearty\n",
    "area_t = (x1*(y2-y3)+x2*(y3-y1)+x3*(y1-y2)) \n",
    "\n",
    "if area_t==0:\n",
    "    # if area_t is zero then it lie on same line\n",
    "    print(\"points are lie on same staright line\")\n",
    "else:\n",
    "    # if area_t is not zero, in all other cases point will not lie on same line\n",
    "\n",
    "    print(\"points are not lie on same staright line\")"
   ]
  }
 ],
 "metadata": {
  "kernelspec": {
   "display_name": "Python 3",
   "language": "python",
   "name": "python3"
  },
  "language_info": {
   "codemirror_mode": {
    "name": "ipython",
    "version": 3
   },
   "file_extension": ".py",
   "mimetype": "text/x-python",
   "name": "python",
   "nbconvert_exporter": "python",
   "pygments_lexer": "ipython3",
   "version": "3.11.4"
  }
 },
 "nbformat": 4,
 "nbformat_minor": 2
}
